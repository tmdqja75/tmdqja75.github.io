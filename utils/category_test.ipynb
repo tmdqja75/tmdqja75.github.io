{
 "cells": [
  {
   "cell_type": "code",
   "execution_count": 11,
   "metadata": {},
   "outputs": [],
   "source": [
    "import os\n",
    "import yaml"
   ]
  },
  {
   "cell_type": "code",
   "execution_count": 20,
   "metadata": {},
   "outputs": [
    {
     "name": "stdout",
     "output_type": "stream",
     "text": [
      "{'lang': 'en', 'title': 'Starter Kit', 'description': 'Hydejack is a boutique Jekyll theme for hackers, nerds, and academics, with a focus on personal sites that are meant to impress.\\n', 'tagline': 'AI Blog', 'keywords': [], 'logo': '/assets/img/logo.png', 'author': {'name': '<firstname> <lastname>', 'email': '<mail@domain.tld>'}, 'menu': [{'title': 'ML&DL', 'url': '/mldl/'}, {'title': 'Documentation', 'url': '/docs/'}, {'title': 'About', 'url': '/about/'}], 'legal': [{'title': 'LICENSE', 'url': '/LICENSE/'}, {'title': 'NOTICE', 'url': '/NOTICE/'}, {'title': 'CHANGELOG', 'url': '/CHANGELOG/'}], 'copyright': '© 2024. All rights reserved.', 'permalink': '/:categories/:year-:month-:day-:title/', 'paginate': 10, 'paginate_path': '/:num/', 'remote_theme': 'hydecorp/hydejack@v9.1.6', 'accent_image': '/assets/img/sidebar-bg.jpg', 'accent_color': 'rgb(79,177,186)', 'theme_color': 'rgb(25,55,71)', 'google_fonts': 'Roboto+Slab:700|Noto+Sans:400,400i,700,700i', 'font': 'Noto Sans, Helvetica, Arial, sans-serif', 'font_heading': 'Roboto Slab, Helvetica, Arial, sans-serif', 'font_code': 'Fira Code, Menlo, Monaco, Consolas, monospace;', 'defaults': [{'scope': {'path': 'hyde/'}, 'values': {'accent_color': 'rgb(38,139,210)', 'theme_color': 'rgb(32,32,32)', 'accent_image': {'background': 'rgb(32,32,32)', 'overlay': False}}}, {'scope': {'path': 'assets/'}, 'values': {'sitemap': False}}, {'scope': {'path': 'licenses/'}, 'values': {'layout': 'plain', 'sitemap': False}}, {'scope': {'type': 'projects'}, 'values': {'seo': {'type': 'WebPage'}}}, {'scope': {'type': 'featured_categories'}, 'values': {'seo': {'type': 'WebPage'}}}, {'scope': {'type': 'featured_tags'}, 'values': {'seo': {'type': 'WebPage'}}}], 'kramdown': {'math_engine': 'mathjax', 'math_engine_opts': {}, 'footnote_backlink': '&#x21a9;&#xfe0e;'}, 'hydejack': {'post_addons': ['about', 'newsletter', 'related', 'random', 'comments'], 'project_addons': ['about', 'newsletter', 'other', 'comments'], 'no_mark_external': False, 'no_push_state': False, 'no_drawer': False, 'no_navbar': False, 'no_search': False, 'no_inline_css': False, 'no_page_style': False, 'no_break_layout': True, 'no_toc': False, 'no_third_column': False, 'no_large_headings': False, 'no_structured_data': False, 'no_theme_color': False, 'no_breadcrumbs': False, 'use_lsi': True, 'cookies_banner': False, 'advertise': False, 'hide_dates': False, 'hide_last_modified': False, 'dark_mode': {'always': False, 'dynamic': True, 'icon': True}, 'offline': {'enabled': False, 'cache_version': 13, 'precache_assets': ['/assets/img/swipe.svg']}}, 'collections': {'featured_categories': {'permalink': '/:name/', 'output': True}, 'featured_tags': {'permalink': '/tag-:name/', 'output': True}, 'projects': {'permalink': '/projects/:path/', 'output': True}}, 'exclude': ['.jekyll-cache', '.sass-cache', '*.toml', 'vendor', 'Gemfile', 'Gemfile.lock'], 'include': ['.well-known', 'LICENSE.md'], 'plugins': ['jekyll-default-layout', 'jekyll-feed', 'jekyll-optional-front-matter', 'jekyll-paginate', 'jekyll-readme-index', 'jekyll-redirect-from', 'jekyll-relative-links', 'jekyll-seo-tag', 'jekyll-sitemap', 'jekyll-titles-from-headings', 'jekyll-include-cache', 'jekyll-last-modified-at'], 'optional_front_matter': {'remove_originals': True}, 'readme_index': {'remove_originals': True, 'with_frontmatter': True}, 'relative_links': {'collections': True}, 'titles_from_headings': {'strip_title': True, 'collections': True}, 'compress_html': {'comments': ['<!--', '-->'], 'clippings': 'all', 'endings': 'all', 'ignore': {'envs': ['development']}}, 'sass': {'style': 'compressed'}, 'jekyll_compose': {'default_front_matter': {'drafts': {'layout': 'post', 'description': 'A short ~160 character description of your post for search engines, social media previews, etc.\\n', 'image': {'path': '/assets/img/sidebar-bg.jpg'}}, 'posts': {'layout': 'post', 'description': 'A short ~160 character description of your post for search engines, social media previews, etc.\\n', 'image': {'path': '/assets/img/sidebar-bg.jpg'}}, 'projects': {'layout': 'project', 'description': 'A short ~160 character description of your post for search engines, social media previews, etc.\\n', 'image': {'path': '/assets/img/sidebar-bg.jpg'}, 'links': [{'title': 'Project Link', 'url': 'https://example.com'}]}}}}\n"
     ]
    }
   ],
   "source": [
    "\n",
    "def parse_yaml_file(file_path):\n",
    "    \"\"\"\n",
    "    Read a YAML file and parse it into a dictionary.\n",
    "\n",
    "    Parameters:\n",
    "        file_path (str): The path to the YAML file.\n",
    "\n",
    "    Returns:\n",
    "        dict: A dictionary containing the parsed YAML content.\n",
    "    \"\"\"\n",
    "    with open(file_path, 'r') as yaml_file:\n",
    "        yaml_content = yaml.safe_load(yaml_file)\n",
    "    return yaml_content\n",
    "\n",
    "def create_markdown_file(directory, filename, content):\n",
    "    \"\"\"\n",
    "    Creates a Markdown file with the specified content in the given directory.\n",
    "    \n",
    "    Parameters:\n",
    "        directory (str): The directory where the Markdown file will be created.\n",
    "        filename (str): The name of the Markdown file.\n",
    "        content (str): The content to be written to the Markdown file.\n",
    "    \"\"\"\n",
    "    # Create the full file path\n",
    "    filepath = os.path.join(directory, filename)\n",
    "    \n",
    "    # Write content to the file\n",
    "    with open(filepath, 'w') as f:\n",
    "        f.write(content)\n",
    "    \n",
    "    print(f\"Markdown file '{filename}' created successfully in '{directory}'.\")\n",
    "\n",
    "\n",
    "# Example usage:\n",
    "yaml_file_path = \"../_config.yml\"  # Specify the path to your YAML file\n",
    "parsed_yaml = parse_yaml_file(yaml_file_path)\n",
    "print(parsed_yaml)"
   ]
  },
  {
   "cell_type": "code",
   "execution_count": 22,
   "metadata": {},
   "outputs": [],
   "source": [
    "content = '''---\n",
    "# Featured tags need to have either the `list` or `grid` layout (PRO only).\n",
    "layout: list\n",
    "\n",
    "# The title of the tag's page.\n",
    "title: {}\n",
    "\n",
    "# The name of the tag, used in a post's front matter (e.g. tags: [<slug>]).\n",
    "slug: {}\n",
    "\n",
    "# (Optional) Write a short (~150 characters) description of this featured tag.\n",
    "description: >\n",
    "  This is a featured category, which have their own page.\n",
    "  Check out `_featured_tags/example.md` to learn how to create your own.\n",
    "\n",
    "# (Optional) You can disable grouping posts by date.\n",
    "no_groups: true\n",
    "\n",
    "# Exclude this example category from the sitemap.\n",
    "# DON'T USE THIS SETTING IN YOUR CATEGORIES!\n",
    "sitemap: false\n",
    "---\n",
    "'''\n"
   ]
  },
  {
   "cell_type": "code",
   "execution_count": 23,
   "metadata": {},
   "outputs": [
    {
     "name": "stdout",
     "output_type": "stream",
     "text": [
      "Markdown file 'mldl.md' created successfully in '../_featured_categories'.\n"
     ]
    }
   ],
   "source": [
    "for cat in parsed_yaml['menu']:\n",
    "    if cat['title'] in ['About', 'Documentation']:\n",
    "        continue\n",
    "    title = cat['title']\n",
    "    slug = cat['url'].strip('/')\n",
    "    new_category_md = content.format(title, slug)\n",
    "    directory = '../_featured_categories'\n",
    "    filename = f'{slug}.md'\n",
    "\n",
    "    create_markdown_file(directory, filename, new_category_md)\n",
    "\n"
   ]
  },
  {
   "cell_type": "code",
   "execution_count": 2,
   "metadata": {},
   "outputs": [
    {
     "ename": "ValueError",
     "evalue": "could not convert string to float: 'None'",
     "output_type": "error",
     "traceback": [
      "\u001b[0;31m---------------------------------------------------------------------------\u001b[0m",
      "\u001b[0;31mValueError\u001b[0m                                Traceback (most recent call last)",
      "Cell \u001b[0;32mIn[2], line 1\u001b[0m\n\u001b[0;32m----> 1\u001b[0m \u001b[38;5;28;43mfloat\u001b[39;49m\u001b[43m(\u001b[49m\u001b[38;5;124;43m'\u001b[39;49m\u001b[38;5;124;43mNone\u001b[39;49m\u001b[38;5;124;43m'\u001b[39;49m\u001b[43m)\u001b[49m\n",
      "\u001b[0;31mValueError\u001b[0m: could not convert string to float: 'None'"
     ]
    }
   ],
   "source": [
    "float('None')"
   ]
  },
  {
   "cell_type": "code",
   "execution_count": null,
   "metadata": {},
   "outputs": [],
   "source": []
  }
 ],
 "metadata": {
  "kernelspec": {
   "display_name": "llm",
   "language": "python",
   "name": "python3"
  },
  "language_info": {
   "codemirror_mode": {
    "name": "ipython",
    "version": 3
   },
   "file_extension": ".py",
   "mimetype": "text/x-python",
   "name": "python",
   "nbconvert_exporter": "python",
   "pygments_lexer": "ipython3",
   "version": "3.9.18"
  }
 },
 "nbformat": 4,
 "nbformat_minor": 2
}
